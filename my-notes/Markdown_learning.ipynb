{
 "cells": [
  {
   "cell_type": "markdown",
   "metadata": {},
   "source": [
    "<font face=\"黑体\">我是黑体字</font>\n",
    "\n",
    "<font face=\"微软雅黑\">我是微软雅黑</font>\n",
    "\n",
    "<font face=\"STCAIYUN\">我是华文彩云</font>\n",
    "\n",
    "<font color=red>我是红色</font>\n",
    "\n",
    "<font color=#008000>我是绿色</font>\n",
    "\n",
    "<font color=Blue>我是蓝色</font>\n",
    "\n",
    "<font size=19>我是尺寸</font>\n",
    "\n",
    "<font face=\"黑体\" color=green size=5>我是黑体，绿色，尺寸为5</font>"
   ]
  },
  {
   "cell_type": "markdown",
   "metadata": {},
   "source": [
    "## setting 里面的markdown reference 最好的说明"
   ]
  },
  {
   "cell_type": "markdown",
   "metadata": {},
   "source": [
    "## 上角标"
   ]
  },
  {
   "cell_type": "markdown",
   "metadata": {},
   "source": [
    "“速成”，对绝大多数人<a href='#fn1' name='fn1b'><sup>[1]</sup></a>来说，在绝大多数情况下，是不大可能的。"
   ]
  },
  {
   "cell_type": "markdown",
   "metadata": {},
   "source": [
    "对绝大多数人<sup>[1]</sup>"
   ]
  },
  {
   "cell_type": "markdown",
   "metadata": {},
   "source": [
    "特别感谢**霍炬**（[@virushuo](https://github.com/virushuo)）、**洪强宁**（[@hongqn](https://github.com/hongqn)) 两位良师诤友在此书写作过程中给予我的巨大帮助！"
   ]
  },
  {
   "attachments": {
    "boolean-operators.png": {
     "image/png": "[encoded data removed]"
    }
   },
   "cell_type": "markdown",
   "metadata": {},
   "source": [
    "![boolean-operators.png](attachment:boolean-operators.png)\n",
    "\n",
    "**Markdown下的图片是放在指定文件夹，让后拖拽到里面就可以了"
   ]
  },
  {
   "cell_type": "markdown",
   "metadata": {},
   "source": [
    "`文字底色`"
   ]
  },
  {
   "cell_type": "markdown",
   "metadata": {},
   "source": [
    "> - 一个末流大学的会计专业毕业的人不得已去做了销售；"
   ]
  },
  {
   "cell_type": "markdown",
   "metadata": {},
   "source": [
    "<p style=\"text-align: right\"><strong>李笑来</strong></p>\n",
    "<p style=\"text-align: right\">初稿完成于 <em>2019</em> 年 <em>2</em> 月 <em>27</em> 日</p>"
   ]
  }
 ],
 "metadata": {
  "kernelspec": {
   "display_name": "Python 3",
   "language": "python",
   "name": "python3"
  },
  "language_info": {
   "codemirror_mode": {
    "name": "ipython",
    "version": 3
   },
   "file_extension": ".py",
   "mimetype": "text/x-python",
   "name": "python",
   "nbconvert_exporter": "python",
   "pygments_lexer": "ipython3",
   "version": "3.7.6"
  }
 },
 "nbformat": 4,
 "nbformat_minor": 4
}
