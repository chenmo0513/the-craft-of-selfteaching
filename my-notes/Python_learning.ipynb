{
 "cells": [
  {
   "cell_type": "markdown",
   "metadata": {},
   "source": [
    "# 本质上就是要尽快的整理，总结，才能把知识变成自己的。"
   ]
  },
  {
   "cell_type": "markdown",
   "metadata": {},
   "source": [
    "没有乔治・布尔的布尔代数，没有克劳德・香农的逻辑电路010101，不会有现代计算机"
   ]
  },
  {
   "cell_type": "markdown",
   "metadata": {},
   "source": [
    "任何一个逻辑表达式都会返回一个布尔值。布尔值只有两个true和false，"
   ]
  },
  {
   "cell_type": "markdown",
   "metadata": {},
   "source": [
    "## 布尔运算"
   ]
  },
  {
   "cell_type": "markdown",
   "metadata": {},
   "source": [
    "### 逻辑操作符"
   ]
  },
  {
   "cell_type": "markdown",
   "metadata": {},
   "source": [
    "| 比较操作符 | 意义     | 示例             | 布尔值  |\n",
    "| ---------- | -------- | ---------------- | ------- |\n",
    "| `==`       | 等于     | `1 == 2`         | `False` |\n",
    "| `!=`       | 不等于   | `1 != 2`         | `True`  |\n",
    "| `>`        | 大于     | `1 > 2`          | `False` |\n",
    "| `>=`       | 大于等于 | `1 >= 1`         | `True`  |\n",
    "| `<`        | 小于     | `1 < 2`          | `True`  |\n",
    "| `<=`       | 小于等于 | `1 <= 2`         | `True`  |\n",
    "| `in`       | 属于     | `'a' in 'basic'` | `True`  |"
   ]
  },
  {
   "cell_type": "markdown",
   "metadata": {},
   "source": [
    "### 布尔运算操作符"
   ]
  },
  {
   "cell_type": "markdown",
   "metadata": {},
   "source": [
    "> 分别用 `and`、`or`、`not` 表示\n",
    "\n",
    "针对布尔值，操作符有与、或、非：and、or、not。\n",
    "\n",
    "它们之中，优先级最低的是或 or，然后是与 and, 优先级最高的是非 not："
   ]
  },
  {
   "attachments": {
    "boolean-operators.png": {
     "image/png": "[encoded data removed]"
    }
   },
   "cell_type": "markdown",
   "metadata": {},
   "source": [
    "![boolean-operators.png](attachment:boolean-operators.png)"
   ]
  },
  {
   "cell_type": "markdown",
   "metadata": {},
   "source": [
    "1.有了布尔运算才有过程控制。\n",
    "\n",
    "2.然后才是为了降低存储空间亦或为了提供速度才有算法优化。\n",
    "\n",
    "3.函数就是一些编好的内容。"
   ]
  },
  {
   "cell_type": "markdown",
   "metadata": {},
   "source": [
    "单等号 `=` 当作赋值符号，把双等号 `==` 当作逻辑判断的 “等于”。"
   ]
  },
  {
   "cell_type": "markdown",
   "metadata": {},
   "source": [
    "\"这些概念，基本上都是独立于某一种编程语言的（Language Independent），无论将来你学习哪一种编程语言，不管是 C++，还是 JavaScript，抑或是 Golang，这些概念都在那里。\n",
    "\n",
    "学会一门编程语言之后，再学其它的就会容易很多 —— 而且，当你学会了其中一个之后，早晚你会顺手学其它的，为了更高效使用微软办公套件，你可能会花上一两天时间研究一下 VBA；为了给自己做个网页什么的，你会顺手学会 JavaScript；为了修改某个编辑器插件，你发现人家是用 Ruby 写的，大致读读官方文档，你就可以下手用 Ruby 语言了；为了搞搞数据可视化，你会发现不学会 R 语言有点不方便……\n",
    "\n",
    "你把这些概念装在脑子里，而后就会发现几乎所有的编程入门教学书籍结构都差不多是由这些概念构成的。因为，所有的编程语言基础都一样，所有的编程语言都是我们指挥计算机的工具。无论怎样，反正都需要输入输出，无论什么语言，不可能没有布尔运算，不可能没有流程控制，不可能没有函数，只要是高级语言，就都需要编译器…… 所以，掌握这些基本概念，是将来持续学习的基础。\"\n",
    "<p style=\"text-align: right\"><strong>李笑来</strong></p>"
   ]
  },
  {
   "cell_type": "markdown",
   "metadata": {},
   "source": [
    "###  值"
   ]
  },
  {
   "cell_type": "markdown",
   "metadata": {},
   "source": [
    "#### 值得类型"
   ]
  },
  {
   "cell_type": "markdown",
   "metadata": {},
   "source": [
    "在不得不对不同类型的值进行运算之前，总是要事先做 **Type Casting**（类型转换）。比如，\n",
    "\n",
    "> * 将字符串转换为数字用 `int()`、`float()`；\n",
    "> * 将数字转换成字符串用 `str()`；\n",
    "\n",
    "另外，即便是在数字之间进行计算的时候，有时也需要将整数转换成浮点数字，或者反之：\n",
    "> * 将整数转换成浮点数字用 `float()`；\n",
    "> * 将浮点数字转换成整数用 `int()`；"
   ]
  },
  {
   "cell_type": "markdown",
   "metadata": {},
   "source": [
    "对于数字，我们可用的操作符有 `+`、`-`、`*`、`/`、`//`、`%`、`**` —— 它们分别代表加、减、乘、除、商、余、幂。"
   ]
  },
  {
   "cell_type": "markdown",
   "metadata": {},
   "source": [
    "从优先级来看，这些操作符中：\n",
    "\n",
    "> * 对两个值进行操作的 `+`、`-` 的优先级最低；\n",
    "> * 稍高的是 `*`、`/`、`//`、`%`；\n",
    "> * 更高的是对单个值进行操作的 `+`、`-`；\n",
    "> * 优先级最高的是 `**`。\n",
    "\n",
    "完整的操作符优先级列表，参见官方文档：没事看看！\n",
    "\n",
    "> https://docs.python.org/3/reference/expressions.html#operator-precedence\n",
    "\n"
   ]
  },
  {
   "cell_type": "markdown",
   "metadata": {},
   "source": [
    "### 操作符"
   ]
  },
  {
   "cell_type": "markdown",
   "metadata": {},
   "source": [
    "#### 数值操作符、逻辑操作符、布尔操作符、字符串操作符、列表操作符"
   ]
  },
  {
   "cell_type": "markdown",
   "metadata": {},
   "source": [
    "数值操作符：对于数字进行加、减、乘、除、商、余、幂的操作\n",
    "\n",
    "逻辑操作符：<（小于）、<=（小于等于）、>（大于）、>=（大于等于）、!=（不等于）、==（等于）返回布尔值。\n",
    "\n",
    "字符之间这是因为字符对应着 Unicode 码，字符在被比较的时候，被比较的是对应的 Unicode 码。\n",
    "\n",
    "\n",
    "字符串操作符：对于字符串进行拼接、拷贝、属于的操作，拼接：+ 和 ' '（后者是空格） 拷贝：* 逻辑运算：in、not in；以及，<、<=、>、>=、!=、== ，\n",
    "\n",
    "\n",
    "对布尔值进行或、与、非的操作，这些都是相对简单的运算。\n",
    "\n",
    "<font size= 12 > 列表操作符:</font> \n",
    "\n",
    "字符串本质上与列表一致，都是有序容器。所以与字符串一样！"
   ]
  },
  {
   "cell_type": "code",
   "execution_count": 9,
   "metadata": {},
   "outputs": [
    {
     "data": {
      "text/plain": [
       "False"
      ]
     },
     "execution_count": 9,
     "metadata": {},
     "output_type": "execute_result"
    }
   ],
   "source": [
    "True and False or not True"
   ]
  },
  {
   "cell_type": "markdown",
   "metadata": {},
   "source": [
    "对于数字进行加、减、乘、除、商、余、幂的操作，对于字符串进行拼接、拷贝、属于的操作，对布尔值进行或、与、非的操作，这些都是相对简单的运算。\n",
    "\n",
    "更为复杂一点的，我们要通过调用函数来完成 —— 因为在函数内部，我们可以用比 “单个表达式” 更为复杂的程序针对传递进来的参数进行运算。换言之，函数就相当于各种事先写好的子程序，给它传递一个值，它会对其进行运算，而后返回一个值（最起码返回一个 `None`）。\n",
    "\n",
    "以下是 Python 语言所有的内建函数（[Built-in Functions](https://docs.python.org/3/library/functions.html)）：\n",
    "\n",
    "| (|Python | Built-in  |  Functions   |  )  |\n",
    "| -----| --- | --- | --- | --- |\n",
    "| [abs()](https://docs.python.org/3/library/functions.html#abs) 绝对值 | [delattr()](https://docs.python.org/3/library/functions.html#delattr) | [hash()](https://docs.python.org/3/library/functions.html#hash) | [memoryview()](https://docs.python.org/3/library/functions.html#func-memoryview) | [set()](https://docs.python.org/3/library/functions.html#func-set) |\n",
    "| [all()](https://docs.python.org/3/library/functions.html#all) | [dict()](https://docs.python.org/3/library/functions.html#func-dict) | [help()](https://docs.python.org/3/library/functions.html#help) | [min()](https://docs.python.org/3/library/functions.html#min) | [setattr()](https://docs.python.org/3/library/functions.html#setattr) |\n",
    "| [any()](https://docs.python.org/3/library/functions.html#any) | [dir()](https://docs.python.org/3/library/functions.html#dir) | [hex()](https://docs.python.org/3/library/functions.html#hex) | [next()](https://docs.python.org/3/library/functions.html#next) | [slice()](https://docs.python.org/3/library/functions.html#slice) |\n",
    "| [ascii()](https://docs.python.org/3/library/functions.html#ascii) | [divmod()](https://docs.python.org/3/library/functions.html#divmod)商余数 | [id()](https://docs.python.org/3/library/functions.html#id)  | [object()](https://docs.python.org/3/library/functions.html#object) | [sorted()](https://docs.python.org/3/library/functions.html#sorted) |\n",
    "| [bin()](https://docs.python.org/3/library/functions.html#bin) | [enumerate()](https://docs.python.org/3/library/functions.html#enumerate) | [input()](https://docs.python.org/3/library/functions.html#input) | [oct()](https://docs.python.org/3/library/functions.html#oct) | [staticmethod()](https://docs.python.org/3/library/functions.html#staticmethod) |\n",
    "| [bool()](https://docs.python.org/3/library/functions.html#bool) | [eval()](https://docs.python.org/3/library/functions.html#eval) | [int()](https://docs.python.org/3/library/functions.html#int) | [open()](https://docs.python.org/3/library/functions.html#open) | [str()](https://docs.python.org/3/library/functions.html#func-str) |\n",
    "| [breakpoint()](https://docs.python.org/3/library/functions.html#breakpoint) | [exec()](https://docs.python.org/3/library/functions.html#exec) | [isinstance()](https://docs.python.org/3/library/functions.html#isinstance) | [ord()](https://docs.python.org/3/library/functions.html#ord) | [sum()](https://docs.python.org/3/library/functions.html#sum) |\n",
    "| [bytearray()](https://docs.python.org/3/library/functions.html#func-bytearray) | [filter()](https://docs.python.org/3/library/functions.html#filter) | [issubclass()](https://docs.python.org/3/library/functions.html#issubclass) | [pow()](https://docs.python.org/3/library/functions.html#pow) | [super()](https://docs.python.org/3/library/functions.html#super) |\n",
    "| [bytes()](https://docs.python.org/3/library/functions.html#func-bytes) | [float()](https://docs.python.org/3/library/functions.html#float) | [iter()](https://docs.python.org/3/library/functions.html#iter) | [print()](https://docs.python.org/3/library/functions.html#print) | [tuple()](https://docs.python.org/3/library/functions.html#func-tuple) |\n",
    "| [callable()](https://docs.python.org/3/library/functions.html#callable) | [format()](https://docs.python.org/3/library/functions.html#format) | [len()](https://docs.python.org/3/library/functions.html#len) | [property()](https://docs.python.org/3/library/functions.html#property) | [type()](https://docs.python.org/3/library/functions.html#type) |\n",
    "| [chr()](https://docs.python.org/3/library/functions.html#chr) | [frozenset()](https://docs.python.org/3/library/functions.html#func-frozenset) | [list()](https://docs.python.org/3/library/functions.html#func-list) | [range()](https://docs.python.org/3/library/functions.html#func-range) | [vars()](https://docs.python.org/3/library/functions.html#vars) |\n",
    "| [classmethod()](https://docs.python.org/3/library/functions.html#classmethod) | [getattr()](https://docs.python.org/3/library/functions.html#getattr) | [locals()](https://docs.python.org/3/library/functions.html#locals) | [repr()](https://docs.python.org/3/library/functions.html#repr) | [zip()](https://docs.python.org/3/library/functions.html#zip) |\n",
    "| [compile()](https://docs.python.org/3/library/functions.html#compile) | [globals()](https://docs.python.org/3/library/functions.html#globals) | [map()](https://docs.python.org/3/library/functions.html#map) | [reversed()](https://docs.python.org/3/library/functions.html#reversed) | [__import__()](https://docs.python.org/3/library/functions.html#__import__) |\n",
    "| [complex()](https://docs.python.org/3/library/functions.html#complex) | [hasattr()](https://docs.python.org/3/library/functions.html#hasattr) | [max()](https://docs.python.org/3/library/functions.html#max) | [round()](https://docs.python.org/3/library/functions.html#round) |  |\n",
    "\n",
    "现在倒不用着急一下子全部了解它们 —— 反正早晚都会的。\n",
    "\n",
    "这其中，针对数字，有计算绝对值的函数 `abs()`，有计算商余的函数 `divmod()` 等等。"
   ]
  },
  {
   "cell_type": "markdown",
   "metadata": {},
   "source": [
    "另外，以下几个链接先放在这里，未来你会返回来参考它们，还是不断地参考它们：\n",
    "\n",
    "> * 关于表达式：https://docs.python.org/3/reference/expressions.html\n",
    "> * 关于所有操作的优先级：https://docs.python.org/3/reference/expressions.html#operator-precedence\n",
    "> * 上一条链接不懂 BNF 的话根本读不懂：https://en.wikipedia.org/wiki/Backus-Naur_form\n",
    "> * Python 的内建函数：https://docs.python.org/3/library/functions.html\n",
    "> * Python 的标准数据类型：https://docs.python.org/3/library/stdtypes.html\n",
    "\n",
    "另外，其实所有的操作符，在 Python 内部也是调用函数完成的……\n",
    "\n",
    "> https://docs.python.org/3.7/library/operator.html"
   ]
  },
  {
   "cell_type": "markdown",
   "metadata": {},
   "source": [
    "## 总结一下就是值包括各种类型，他们之间是不能直接计算的，同一类型可以计算。这个原则很重要！\n"
   ]
  },
  {
   "cell_type": "markdown",
   "metadata": {},
   "source": [
    "# 流程控制"
   ]
  },
  {
   "cell_type": "markdown",
   "metadata": {},
   "source": [
    "流程控制包括"
   ]
  },
  {
   "cell_type": "markdown",
   "metadata": {},
   "source": [
    "## if 语句， 包括 if， if。。。else，if。。。elif。。elif，if。。。elif。。else。。"
   ]
  },
  {
   "cell_type": "markdown",
   "metadata": {},
   "source": [
    "## for 循环 比其他语言简单，具体将来可以对比一下。for。。。else。。"
   ]
  },
  {
   "cell_type": "code",
   "execution_count": null,
   "metadata": {},
   "outputs": [],
   "source": [
    "Python 语言中，`for` 循环不使用其它语言中那样的计数器，取而代之的是 `range()` 这个我称其为 “整数等差数列生成器” 的函数。\n"
   ]
  },
  {
   "cell_type": "code",
   "execution_count": null,
   "metadata": {},
   "outputs": [],
   "source": [
    "for a in range(10):\n",
    "    print(f'value of a: {a}') #每次 a 的值都不同，从 0 递增至 9"
   ]
  },
  {
   "cell_type": "markdown",
   "metadata": {},
   "source": [
    "这是是不是就已经默认a的初始取值，然后以“等差数列生成器”"
   ]
  },
  {
   "cell_type": "markdown",
   "metadata": {},
   "source": [
    "## range（）函数 range(start, stop, step) 因为其为整数等差数列生成器所以是流程控制。stop-1的值"
   ]
  },
  {
   "attachments": {
    "continue-break.png": {
     "image/png": "[encoded data removed]"
    }
   },
   "cell_type": "markdown",
   "metadata": {},
   "source": [
    "在循环的过程中，还可以用 `continue` 和 `break` 控制流程走向，通常是在某条件判断发生的情况下 —— 正如你早就见过的那样：\n",
    "\n",
    "```python\n",
    "for n in range(2, 100):\n",
    "    if n == 2:\n",
    "        print(n)\n",
    "        continue\n",
    "    for i in range(2, n):\n",
    "        if (n % i) == 0:\n",
    "            break\n",
    "    else:\n",
    "        print(n)  \n",
    "```\n",
    "\n",
    "`continue` 语句将忽略其后的语句开始下次循环，而 `break` 语句将从此结束当前循环，开始执行循环之后的语句：\n",
    "\n",
    "![continue-break.png](attachment:continue-break.png)"
   ]
  },
  {
   "cell_type": "markdown",
   "metadata": {},
   "source": [
    "<font size =12>书上的例子没有看明白,回头要再看一下！</font>"
   ]
  },
  {
   "cell_type": "markdown",
   "metadata": {},
   "source": [
    "## while 循环"
   ]
  },
  {
   "cell_type": "markdown",
   "metadata": {},
   "source": [
    "今天，在绝大多数编程语言中，都提供两种循环结构：\n",
    "\n",
    "> * Collection-controlled loops（以集合为基础的循环）\n",
    "> * Condition-controlled loops（以条件为基础的循环）\n",
    "\n",
    "之前的 `for ... in ...` 就是 Collection-controlled loops；而在 Python 中提供的 Condition-controlled loops 是 `while` 循环。\n"
   ]
  },
  {
   "cell_type": "markdown",
   "metadata": {},
   "source": [
    "有控制流，才能算得上是程序。\n",
    "\n",
    "> * 只处理一种情况，用 `if ... `\n",
    "> * 处理 `True`/`False` 两种情况，用 `if ... else ...`\n",
    "> * 处理多种情况，用 `if ... elif ... elif ... else ...`\n",
    "> * 迭代有序数据类型，用 `for ... in ...`，如果需要处理没有 `break` 发生的情况，用 `for ... else ...`\n",
    "> * 其它循环，用 `while ...`\n",
    "> * 与循环相关的语句还有 `continue`、`break`、`pass`\n",
    "> * 函数从控制流角度去看其实就是子程序"
   ]
  },
  {
   "cell_type": "code",
   "execution_count": null,
   "metadata": {},
   "outputs": [],
   "source": []
  },
  {
   "cell_type": "code",
   "execution_count": null,
   "metadata": {},
   "outputs": [],
   "source": []
  },
  {
   "cell_type": "markdown",
   "metadata": {},
   "source": [
    "备注: 后续改进，这个是全局设置\n",
    "\n",
    "'''\n",
    "from IPython.core.interactiveshell import InteractiveShell\n",
    "\n",
    "\n",
    "InteractiveShell.ast_node_interactivity = \"all\"\n",
    "'''\n"
   ]
  },
  {
   "cell_type": "markdown",
   "metadata": {},
   "source": [
    "## 函数"
   ]
  },
  {
   "cell_type": "code",
   "execution_count": 19,
   "metadata": {},
   "outputs": [
    {
     "data": {
      "text/plain": [
       "'Ann is 22 years old.'"
      ]
     },
     "execution_count": 19,
     "metadata": {},
     "output_type": "execute_result"
    }
   ],
   "source": [
    "name = 'Ann'\n",
    "age = '22'\n",
    "f'{name} is {age} years old.'"
   ]
  },
  {
   "cell_type": "markdown",
   "metadata": {},
   "source": [
    "## 正则表达式"
   ]
  },
  {
   "cell_type": "markdown",
   "metadata": {},
   "source": [
    "re.compile()先介绍这个吧，"
   ]
  },
  {
   "cell_type": "markdown",
   "metadata": {},
   "source": [
    "[re.compile(pattern, flags=0)](https://docs.python.org/zh-cn/3/library/re.html#re.compile) "
   ]
  },
  {
   "cell_type": "markdown",
   "metadata": {},
   "source": [
    "re.compile(pattern[, flags]) compile 函数用于编译正则表达式，生成一个正则表达式（ Pattern ）对象，供 match() 和 search() 这两个函数使用。\n",
    "参数：\n",
    "\n",
    "pattern : 一个字符串形式的正则表达式\n",
    "\n",
    "flags : 可选，表示匹配模式，比如忽略大小写，多行模式等，具体参数为：\n",
    "\n",
    "re.I 忽略大小写\n",
    "\n",
    "re.L 表示特殊字符集 \\w, \\W, \\b, \\B, \\s, \\S 依赖于当前环境\n",
    "\n",
    "re.M 多行模式\n",
    "\n",
    "re.S 即为 . 并且包括换行符在内的任意字符（. 不包括换行符）\n",
    "\n",
    "re.U 表示特殊字符集 \\w, \\W, \\b, \\B, \\d, \\D, \\s, \\S 依赖于 Unicode 字符属性数据库\n",
    "\n",
    "re.X 为了增加可读性，忽略空格和 # 后面的注释\n"
   ]
  },
  {
   "cell_type": "markdown",
   "metadata": {},
   "source": [
    "个人理解，正则是用来寻找特定标识的字符串，然后把他们处理。"
   ]
  },
  {
   "cell_type": "code",
   "execution_count": 12,
   "metadata": {},
   "outputs": [
    {
     "name": "stdout",
     "output_type": "stream",
     "text": [
      "\n",
      "\n",
      "\n",
      "\n",
      "shenhou https://www.baidu.com/\n",
      "\n",
      "网站内容不是如下： https://www.baidu.com/s?wd=%e5%8a%b3%e5%8a%a8%e8%8a%82&sa=ire_dl_gh_logo&rsv_dl=igh_logo_pcs\n",
      "\n",
      "https://www.d1xz.net/rili/jieri/art339574.aspx\n",
      "\n",
      "\n",
      "\n",
      "\n",
      "\n",
      "\n",
      "\n",
      "https://www.worldometers.info/coronavirus/\n",
      "&&&&&&&&&&&&&&&&&&&&&&&&&&&&&&&&&&&&&\n",
      "https://www.baidu.com/\n",
      "https://www.baidu.com/s?wd=%e5%8a%b3%e5%8a%a8%e8%8a%82&sa=ire_dl_gh_logo&rsv_dl=igh_logo_pcs\n",
      "https://www.d1xz.net/rili/jieri/art339574.aspx\n",
      "https://www.worldometers.info/coronavirus/\n"
     ]
    }
   ],
   "source": [
    "import re\n",
    "pattern=re.compile(r'((https?):((//)|(\\\\\\\\))+[\\w\\d:#@%/;$()~_?\\+-=\\\\\\.&]*)')#利用re.compile()来建立一个正则，然后循环来找到他们，最后输出。\n",
    "with open ( 'Data_for_preparation.txt','r') as file:\n",
    "    for line in file.readlines():\n",
    "        print(line)\n",
    "print(\"&&&&&&&&&&&&&&&&&&&&&&&&&&&&&&&&&&&&&\")\n",
    "with open ( 'Data_for_preparation.txt','r') as file:\n",
    "    for temp in file.readlines():\n",
    "        for word in pattern.finditer(temp):\n",
    "            print(word.group())"
   ]
  },
  {
   "cell_type": "markdown",
   "metadata": {},
   "source": [
    "三种方法来处理数据，主要是[12.字符串和正则表达式](https://github.com/jackfrued/Python-100-Days/blob/master/Day01-15/12.%E5%AD%97%E7%AC%A6%E4%B8%B2%E5%92%8C%E6%AD%A3%E5%88%99%E8%A1%A8%E8%BE%BE%E5%BC%8F.md) 来学习的。"
   ]
  },
  {
   "cell_type": "markdown",
   "metadata": {},
   "source": [
    "这其中有许多的要求，例如(?:...)(?=..)用的时候自己查找"
   ]
  },
  {
   "cell_type": "markdown",
   "metadata": {},
   "source": [
    "how to check the library version"
   ]
  },
  {
   "cell_type": "code",
   "execution_count": 1,
   "metadata": {},
   "outputs": [
    {
     "data": {
      "text/plain": [
       "'1.0.3'"
      ]
     },
     "execution_count": 1,
     "metadata": {},
     "output_type": "execute_result"
    }
   ],
   "source": [
    "import pandas as pd\n",
    "pd.__version__"
   ]
  },
  {
   "cell_type": "code",
   "execution_count": null,
   "metadata": {},
   "outputs": [],
   "source": []
  }
 ],
 "metadata": {
  "kernelspec": {
   "display_name": "Python 3",
   "language": "python",
   "name": "python3"
  },
  "language_info": {
   "codemirror_mode": {
    "name": "ipython",
    "version": 3
   },
   "file_extension": ".py",
   "mimetype": "text/x-python",
   "name": "python",
   "nbconvert_exporter": "python",
   "pygments_lexer": "ipython3",
   "version": "3.7.6"
  }
 },
 "nbformat": 4,
 "nbformat_minor": 4
}
